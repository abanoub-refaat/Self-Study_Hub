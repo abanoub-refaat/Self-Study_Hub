{
 "cells": [
  {
   "cell_type": "markdown",
   "id": "4e0fd2b7",
   "metadata": {},
   "source": [
    "# Python Revision & Studying"
   ]
  },
  {
   "cell_type": "markdown",
   "id": "15520d9e",
   "metadata": {},
   "source": [
    "## Basics"
   ]
  },
  {
   "cell_type": "markdown",
   "id": "e5f41d2d",
   "metadata": {},
   "source": [
    "### Data Types & Variables in Python"
   ]
  },
  {
   "cell_type": "markdown",
   "id": "9e8c817d",
   "metadata": {},
   "source": [
    "Python is a Dynamically typed language: which means that we don't have to explictly write the type of the varibale."
   ]
  },
  {
   "cell_type": "code",
   "execution_count": null,
   "id": "457bd0cc",
   "metadata": {},
   "outputs": [],
   "source": [
    "num = 5\n",
    "print(num)"
   ]
  },
  {
   "cell_type": "code",
   "execution_count": null,
   "id": "dea5ffb4",
   "metadata": {},
   "outputs": [],
   "source": [
    "name = input(\"What is your name? \") # rertuns a str\n",
    "print(\"Hello, \" + name +\".\") # concatination"
   ]
  },
  {
   "cell_type": "code",
   "execution_count": null,
   "id": "cb86ba70",
   "metadata": {},
   "outputs": [],
   "source": [
    "age = float(input(\"What is your age? \"))\n",
    "print(\"You'r \" + str(age) + \" years old.\") # type conversion"
   ]
  },
  {
   "cell_type": "markdown",
   "id": "64df3d5e",
   "metadata": {},
   "source": [
    "## Objects "
   ]
  },
  {
   "cell_type": "markdown",
   "id": "e8708334",
   "metadata": {},
   "source": [
    "Everything in python is an Object, and we can check the type of any element using the `type()` function."
   ]
  },
  {
   "cell_type": "code",
   "execution_count": null,
   "id": "16ffab53",
   "metadata": {},
   "outputs": [],
   "source": [
    "type(5) "
   ]
  },
  {
   "cell_type": "code",
   "execution_count": null,
   "id": "38cf6410",
   "metadata": {},
   "outputs": [],
   "source": [
    "type(\"this is some text\")"
   ]
  },
  {
   "cell_type": "markdown",
   "id": "b8fdcd67",
   "metadata": {},
   "source": [
    "Python Supports type casting as in TypeScript, it's rarly used but it exist."
   ]
  },
  {
   "cell_type": "code",
   "execution_count": null,
   "id": "ecac25c0",
   "metadata": {},
   "outputs": [],
   "source": [
    "#type casting like in TypeScript\n",
    "x: int = 5 \n",
    "type(x) "
   ]
  },
  {
   "cell_type": "markdown",
   "id": "9dbb0f5d",
   "metadata": {},
   "source": [
    "Strings has a varity of **methods** including:"
   ]
  },
  {
   "cell_type": "code",
   "execution_count": null,
   "id": "4f4576b2",
   "metadata": {},
   "outputs": [],
   "source": [
    "name = \"this is a random name\"\n",
    "print(name.title())\n",
    "print(name.upper())\n",
    "\n",
    "title = \" this is a title \"\n",
    "print(title.lower().strip())"
   ]
  },
  {
   "cell_type": "markdown",
   "id": "349f7aae",
   "metadata": {},
   "source": [
    "Integers alson have some **methods** including:"
   ]
  },
  {
   "cell_type": "code",
   "execution_count": null,
   "id": "779caa3a",
   "metadata": {},
   "outputs": [],
   "source": [
    "x = 123\n",
    "x.bit_length()"
   ]
  },
  {
   "cell_type": "code",
   "execution_count": null,
   "id": "fd332a77",
   "metadata": {},
   "outputs": [],
   "source": [
    "y = 39.02\n",
    "y.as_integer_ratio()"
   ]
  },
  {
   "cell_type": "code",
   "execution_count": null,
   "id": "503f151a",
   "metadata": {},
   "outputs": [],
   "source": [
    "z = 345\n",
    "bin(z)"
   ]
  },
  {
   "cell_type": "code",
   "execution_count": null,
   "id": "e7e1a76c",
   "metadata": {},
   "outputs": [],
   "source": [
    "name = \"Abanoub\"\n",
    "dir(name)"
   ]
  },
  {
   "cell_type": "markdown",
   "id": "d0a66360",
   "metadata": {},
   "source": [
    "`is` and `in` keywords"
   ]
  },
  {
   "cell_type": "code",
   "execution_count": null,
   "id": "a8be23e6",
   "metadata": {},
   "outputs": [],
   "source": [
    "'e' in 'Hello'\n",
    "# does 'e' exist in the stream of character 'hello'?"
   ]
  },
  {
   "cell_type": "code",
   "execution_count": null,
   "id": "a3094140",
   "metadata": {},
   "outputs": [],
   "source": [
    "\"hello\" is \"hello\""
   ]
  },
  {
   "cell_type": "code",
   "execution_count": null,
   "id": "95eb9cc1",
   "metadata": {},
   "outputs": [],
   "source": [
    "x = 16\n",
    "y = 16\n",
    "x is y"
   ]
  },
  {
   "cell_type": "code",
   "execution_count": null,
   "id": "3c7b4d7f",
   "metadata": {},
   "outputs": [],
   "source": [
    "x = [ 1, 2, 3]\n",
    "y = [ 1, 2, 3]\n",
    "\n",
    "print(x == y)\n",
    "print(x is y)"
   ]
  },
  {
   "cell_type": "markdown",
   "id": "defb1e5b",
   "metadata": {},
   "source": [
    "### None type in Python"
   ]
  },
  {
   "cell_type": "code",
   "execution_count": null,
   "id": "b7df24e4",
   "metadata": {},
   "outputs": [],
   "source": [
    "type(None)"
   ]
  },
  {
   "cell_type": "code",
   "execution_count": null,
   "id": "9756ecf8",
   "metadata": {},
   "outputs": [],
   "source": [
    "print(None is None)"
   ]
  },
  {
   "cell_type": "code",
   "execution_count": null,
   "id": "38116ea4",
   "metadata": {},
   "outputs": [],
   "source": [
    "bool(None) == bool(0)"
   ]
  }
 ],
 "metadata": {
  "kernelspec": {
   "display_name": "Python 3",
   "language": "python",
   "name": "python3"
  },
  "language_info": {
   "codemirror_mode": {
    "name": "ipython",
    "version": 3
   },
   "file_extension": ".py",
   "mimetype": "text/x-python",
   "name": "python",
   "nbconvert_exporter": "python",
   "pygments_lexer": "ipython3",
   "version": "3.13.5"
  }
 },
 "nbformat": 4,
 "nbformat_minor": 5
}
