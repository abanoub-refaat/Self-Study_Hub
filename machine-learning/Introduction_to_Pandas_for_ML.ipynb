{
  "cells": [
    {
      "cell_type": "markdown",
      "metadata": {
        "id": "4jzRQy3Zb5oq"
      },
      "source": [
        "Objective: This notebook complements your introductory ML lecture. Here, you will learn the absolute basics of Pandas, the primary tool we use to load, look at, and understand our data before we build models.\n",
        "\n",
        "Dataset: We will use the classic Iris dataset. It's simple, clean, and perfect for practice."
      ]
    },
    {
      "cell_type": "markdown",
      "metadata": {
        "id": "LowNwAFOb9QI"
      },
      "source": [
        "# Step 1: Importing Libraries\n",
        "### First, we need to import the tools for our job. Run the cell below."
      ]
    },
    {
      "cell_type": "code",
      "execution_count": null,
      "metadata": {},
      "outputs": [],
      "source": [
        "%pip install sklearn"
      ]
    },
    {
      "cell_type": "code",
      "execution_count": null,
      "metadata": {
        "id": "P3HZqS3Hb6mQ"
      },
      "outputs": [],
      "source": [
        "# Pandas is for data manipulation and analysis. It's our main tool.\n",
        "import pandas as pd\n",
        "\n",
        "# NumPy is for numerical operations. Pandas is built on top of it.\n",
        "import numpy as np\n",
        "\n",
        "# Matplotlib is for creating visualizations. We'll use it for basic plots.\n",
        "import matplotlib.pyplot as plt\n",
        "\n",
        "print(\"All libraries imported successfully!\")"
      ]
    },
    {
      "cell_type": "markdown",
      "metadata": {
        "id": "JAQLbl1zcGX1"
      },
      "source": [
        "# Step 2: Loading a Dataset\n",
        "### We need data to work with! We'll use a built-in dataset from the `scikit-learn` library. Don't worry about the `load_iris()` function for now; just know that it gives us a well-known dataset."
      ]
    },
    {
      "cell_type": "code",
      "execution_count": null,
      "metadata": {
        "id": "g8qShhB3cKny"
      },
      "outputs": [],
      "source": [
        "from sklearn.datasets import load_iris\n",
        "\n",
        "# Load the iris dataset\n",
        "iris_data = load_iris()\n",
        "\n",
        "# Now, let's create a Pandas DataFrame from this data.\n",
        "# A DataFrame is like a spreadsheet or a SQL table – it's how we store our data.\n",
        "df = pd.DataFrame(data=iris_data['data'], columns=iris_data['feature_names'])\n",
        "\n",
        "# Let's see what we've created!\n",
        "print(\"Type of the object:\", type(df))\n",
        "print(\"\")\n",
        "print(\"Shape of the DataFrame (Rows, Columns):\", df.shape)"
      ]
    },
    {
      "cell_type": "markdown",
      "metadata": {
        "id": "JtDijYIRcajA"
      },
      "source": [
        "# Step 3: Your First Look at the Data\n",
        "### Now that the data is loaded, let's see what it looks like."
      ]
    },
    {
      "cell_type": "code",
      "execution_count": null,
      "metadata": {
        "id": "vYbpBqNdcXkj"
      },
      "outputs": [],
      "source": [
        "# .head() shows the first 5 rows of the DataFrame. This is your first look at the data.\n",
        "df.head()"
      ]
    },
    {
      "cell_type": "code",
      "execution_count": null,
      "metadata": {
        "id": "Oap1YhbTceDA"
      },
      "outputs": [],
      "source": [
        "# .tail() shows the last 5 rows.\n",
        "df.tail()"
      ]
    },
    {
      "cell_type": "markdown",
      "metadata": {
        "id": "QcEvuu1KdDgV"
      },
      "source": [
        "# Step 4: Getting Basic Information\n",
        "### The `.info()` method gives us a technical summary of the DataFrame. This is crucial for understanding your data's structure."
      ]
    },
    {
      "cell_type": "code",
      "execution_count": null,
      "metadata": {
        "id": "YUaKFPoDdBCe"
      },
      "outputs": [],
      "source": [
        "df.info()"
      ]
    },
    {
      "cell_type": "markdown",
      "metadata": {
        "id": "dI1wmLiCdo7r"
      },
      "source": [
        "# Step 5: Getting Basic Statistics\n",
        "### Machine learning is about understanding patterns in numbers. The `.describe()` method gives a quick statistical summary of all numerical columns."
      ]
    },
    {
      "cell_type": "code",
      "execution_count": null,
      "metadata": {
        "id": "MAdcEGkYc8Nv"
      },
      "outputs": [],
      "source": [
        "df.describe()"
      ]
    },
    {
      "cell_type": "markdown",
      "metadata": {
        "id": "ynsJsalLdwOE"
      },
      "source": [
        "# Step 6: Selecting Data\n",
        "### We often need to work with specific columns or rows. Let's see how to do that.\n",
        "# Selecting a Single Column\n",
        "### You can select a column by using its name, like this: `df['column_name']`."
      ]
    },
    {
      "cell_type": "code",
      "execution_count": null,
      "metadata": {
        "id": "m-7EDQhwduiU"
      },
      "outputs": [],
      "source": [
        "# Select the 'sepal length (cm)' column\n",
        "sepal_lengths = df['sepal length (cm)']\n",
        "print(\"Type of the selected column:\", type(sepal_lengths))\n",
        "print(\"First 10 values:\")\n",
        "print(sepal_lengths.head(10))"
      ]
    },
    {
      "cell_type": "markdown",
      "metadata": {
        "id": "Oz2QGwXOeAH2"
      },
      "source": [
        "### Selecting Multiple Columns\n",
        "### To select multiple columns, you pass a list of column names: `df[['col1', 'col2']]`."
      ]
    },
    {
      "cell_type": "code",
      "execution_count": null,
      "metadata": {
        "id": "IWrwbv5Yd-Rf"
      },
      "outputs": [],
      "source": [
        "# Select just the 'sepal' columns\n",
        "sepal_data = df[['sepal length (cm)', 'sepal width (cm)']]\n",
        "sepal_data.head()"
      ]
    },
    {
      "cell_type": "markdown",
      "metadata": {
        "id": "nVMzFz1VeHkd"
      },
      "source": [
        "# Step 7: Simple Data Visualization\n",
        "### Let's make a simple plot to see the distribution of a feature. This is a basic form of Exploratory Data Analysis (EDA)."
      ]
    },
    {
      "cell_type": "code",
      "execution_count": null,
      "metadata": {
        "id": "y-xWSaJGeElU"
      },
      "outputs": [],
      "source": [
        "# Let's create a histogram of the 'sepal length (cm)' column.\n",
        "# A histogram shows how many times each value appears.\n",
        "\n",
        "plt.figure(figsize=(8, 5)) # This sets the size of the plot\n",
        "plt.hist(df['sepal length (cm)'], color='skyblue', edgecolor='black', bins=15)\n",
        "plt.title('Distribution of Sepal Lengths')\n",
        "plt.xlabel('Sepal Length (cm)')\n",
        "plt.ylabel('Count')\n",
        "plt.show()"
      ]
    }
  ],
  "metadata": {
    "colab": {
      "provenance": []
    },
    "kernelspec": {
      "display_name": ".venv",
      "language": "python",
      "name": "python3"
    },
    "language_info": {
      "codemirror_mode": {
        "name": "ipython",
        "version": 3
      },
      "file_extension": ".py",
      "mimetype": "text/x-python",
      "name": "python",
      "nbconvert_exporter": "python",
      "pygments_lexer": "ipython3",
      "version": "3.13.7"
    }
  },
  "nbformat": 4,
  "nbformat_minor": 0
}
