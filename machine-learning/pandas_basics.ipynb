{
 "cells": [
  {
   "cell_type": "code",
   "execution_count": null,
   "id": "4544dc13",
   "metadata": {},
   "outputs": [],
   "source": [
    "import pandas as pd"
   ]
  },
  {
   "cell_type": "code",
   "execution_count": null,
   "id": "cefd8c38",
   "metadata": {},
   "outputs": [],
   "source": [
    "df = pd.read_csv(\"data/survey_results_public.csv\", index_col=\"ResponseId\")\n",
    "schema_df = pd.read_csv(\"data/survey_results_schema.csv\", index_col=\"qname\")"
   ]
  },
  {
   "cell_type": "code",
   "execution_count": null,
   "id": "272d6851",
   "metadata": {},
   "outputs": [],
   "source": [
    "pd.set_option(\"display.max_columns\", 170)\n",
    "pd.set_option(\"display.max_rows\", 85)"
   ]
  },
  {
   "cell_type": "code",
   "execution_count": null,
   "id": "92f5142b",
   "metadata": {},
   "outputs": [],
   "source": [
    "df.head()\n",
    "# df.tail()\n",
    "# df.info()"
   ]
  },
  {
   "cell_type": "code",
   "execution_count": null,
   "id": "694169e7",
   "metadata": {},
   "outputs": [],
   "source": [
    "schema_df"
   ]
  },
  {
   "cell_type": "code",
   "execution_count": null,
   "id": "ce26fe59",
   "metadata": {},
   "outputs": [],
   "source": [
    "df.shape"
   ]
  },
  {
   "cell_type": "code",
   "execution_count": null,
   "id": "3cb101a0",
   "metadata": {},
   "outputs": [],
   "source": [
    "df.columns"
   ]
  },
  {
   "cell_type": "code",
   "execution_count": null,
   "id": "46a1e994",
   "metadata": {},
   "outputs": [],
   "source": [
    "df[\"EdLevel\"]"
   ]
  },
  {
   "cell_type": "code",
   "execution_count": null,
   "id": "7691c667",
   "metadata": {},
   "outputs": [],
   "source": [
    "df[\"EdLevel\"].value_counts()"
   ]
  },
  {
   "cell_type": "code",
   "execution_count": null,
   "id": "6cab8f20",
   "metadata": {},
   "outputs": [],
   "source": [
    "df.loc[0:2, \"EdLevel\": \"WorkExp\"]"
   ]
  },
  {
   "cell_type": "code",
   "execution_count": null,
   "id": "01af7f6b",
   "metadata": {},
   "outputs": [],
   "source": [
    "schema_df.loc[\"TechEndorse_4\"]"
   ]
  },
  {
   "cell_type": "code",
   "execution_count": null,
   "id": "a6e6477e",
   "metadata": {},
   "outputs": [],
   "source": [
    "schema_df.loc[\"TechEndorse_4\", \"question\" ]"
   ]
  },
  {
   "cell_type": "code",
   "execution_count": null,
   "id": "68b86017",
   "metadata": {},
   "outputs": [],
   "source": [
    "schema_df.sort_index(ascending=True, inplace=True)"
   ]
  },
  {
   "cell_type": "code",
   "execution_count": null,
   "id": "ff6e5be5",
   "metadata": {},
   "outputs": [],
   "source": [
    "low_work_exp = (df[\"WorkExp\"] < 2)\n",
    "ages = [\"18-24 years old\", \"25-34 years old\"]\n",
    "filt = df[\"Age\"].isin(ages)"
   ]
  },
  {
   "cell_type": "code",
   "execution_count": null,
   "id": "976f2a0d",
   "metadata": {},
   "outputs": [],
   "source": [
    "df.loc[filt, \"Age\"]"
   ]
  },
  {
   "cell_type": "code",
   "execution_count": null,
   "id": "41f903b8",
   "metadata": {},
   "outputs": [],
   "source": [
    "filt = df[\"LanguageWantToWorkWith\"].str.contains(\"Python\", na=False)\n",
    "df.loc[filt, \"LanguageWantToWorkWith\"]"
   ]
  }
 ],
 "metadata": {
  "kernelspec": {
   "display_name": "Python 3",
   "language": "python",
   "name": "python3"
  },
  "language_info": {
   "codemirror_mode": {
    "name": "ipython",
    "version": 3
   },
   "file_extension": ".py",
   "mimetype": "text/x-python",
   "name": "python",
   "nbconvert_exporter": "python",
   "pygments_lexer": "ipython3",
   "version": "3.13.5"
  }
 },
 "nbformat": 4,
 "nbformat_minor": 5
}
