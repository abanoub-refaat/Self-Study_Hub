{
 "cells": [
  {
   "cell_type": "code",
   "execution_count": 3,
   "id": "4544dc13",
   "metadata": {},
   "outputs": [],
   "source": [
    "import pandas as pd"
   ]
  },
  {
   "cell_type": "code",
   "execution_count": 4,
   "id": "cefd8c38",
   "metadata": {},
   "outputs": [],
   "source": [
    "df = pd.read_csv(\"data/survey_results_public.csv\")\n",
    "schema_df = pd.read_csv(\"data/survey_results_schema.csv\")"
   ]
  },
  {
   "cell_type": "code",
   "execution_count": 5,
   "id": "272d6851",
   "metadata": {},
   "outputs": [],
   "source": [
    "pd.set_option(\"display.max_columns\", 170)\n",
    "pd.set_option(\"display.max_rows\", 85)"
   ]
  },
  {
   "cell_type": "code",
   "execution_count": null,
   "id": "92f5142b",
   "metadata": {},
   "outputs": [],
   "source": [
    "df.tail()\n",
    "df.head()\n",
    "df.info()"
   ]
  },
  {
   "cell_type": "code",
   "execution_count": null,
   "id": "694169e7",
   "metadata": {},
   "outputs": [],
   "source": [
    "schema_df"
   ]
  },
  {
   "cell_type": "code",
   "execution_count": 6,
   "id": "ce26fe59",
   "metadata": {},
   "outputs": [
    {
     "data": {
      "text/plain": [
       "(49123, 170)"
      ]
     },
     "execution_count": 6,
     "metadata": {},
     "output_type": "execute_result"
    }
   ],
   "source": [
    "df.shape"
   ]
  },
  {
   "cell_type": "code",
   "execution_count": 7,
   "id": "3cb101a0",
   "metadata": {},
   "outputs": [
    {
     "data": {
      "text/plain": [
       "Index(['ResponseId', 'MainBranch', 'Age', 'EdLevel', 'Employment',\n",
       "       'EmploymentAddl', 'WorkExp', 'LearnCodeChoose', 'LearnCode',\n",
       "       'LearnCodeAI',\n",
       "       ...\n",
       "       'AIAgentOrchestration', 'AIAgentOrchWrite', 'AIAgentObserveSecure',\n",
       "       'AIAgentObsWrite', 'AIAgentExternal', 'AIAgentExtWrite', 'AIHuman',\n",
       "       'AIOpen', 'ConvertedCompYearly', 'JobSat'],\n",
       "      dtype='object', length=170)"
      ]
     },
     "execution_count": 7,
     "metadata": {},
     "output_type": "execute_result"
    }
   ],
   "source": [
    "df.columns"
   ]
  },
  {
   "cell_type": "code",
   "execution_count": null,
   "id": "46a1e994",
   "metadata": {},
   "outputs": [
    {
     "data": {
      "text/plain": [
       "0          Master’s degree (M.A., M.S., M.Eng., MBA, etc.)\n",
       "1                      Associate degree (A.A., A.S., etc.)\n",
       "2             Bachelor’s degree (B.A., B.S., B.Eng., etc.)\n",
       "3             Bachelor’s degree (B.A., B.S., B.Eng., etc.)\n",
       "4          Master’s degree (M.A., M.S., M.Eng., MBA, etc.)\n",
       "                               ...                        \n",
       "49118         Bachelor’s degree (B.A., B.S., B.Eng., etc.)\n",
       "49119         Bachelor’s degree (B.A., B.S., B.Eng., etc.)\n",
       "49120    Secondary school (e.g. American high school, G...\n",
       "49121                  Associate degree (A.A., A.S., etc.)\n",
       "49122    Some college/university study without earning ...\n",
       "Name: EdLevel, Length: 49123, dtype: object"
      ]
     },
     "execution_count": 8,
     "metadata": {},
     "output_type": "execute_result"
    }
   ],
   "source": [
    "df[\"EdLevel\"]"
   ]
  },
  {
   "cell_type": "code",
   "execution_count": 9,
   "id": "7691c667",
   "metadata": {},
   "outputs": [
    {
     "data": {
      "text/plain": [
       "EdLevel\n",
       "Bachelor’s degree (B.A., B.S., B.Eng., etc.)                                          20247\n",
       "Master’s degree (M.A., M.S., M.Eng., MBA, etc.)                                       12575\n",
       "Some college/university study without earning a degree                                 6175\n",
       "Secondary school (e.g. American high school, German Realschule or Gymnasium, etc.)     3627\n",
       "Professional degree (JD, MD, Ph.D, Ed.D, etc.)                                         2620\n",
       "Associate degree (A.A., A.S., etc.)                                                    1560\n",
       "Other (please specify):                                                                 701\n",
       "Primary/elementary school                                                               582\n",
       "Name: count, dtype: int64"
      ]
     },
     "execution_count": 9,
     "metadata": {},
     "output_type": "execute_result"
    }
   ],
   "source": [
    "df[\"EdLevel\"].value_counts()"
   ]
  },
  {
   "cell_type": "code",
   "execution_count": 12,
   "id": "938b51c1",
   "metadata": {},
   "outputs": [
    {
     "data": {
      "text/plain": [
       "0    Master’s degree (M.A., M.S., M.Eng., MBA, etc.)\n",
       "1                Associate degree (A.A., A.S., etc.)\n",
       "2       Bachelor’s degree (B.A., B.S., B.Eng., etc.)\n",
       "Name: EdLevel, dtype: object"
      ]
     },
     "execution_count": 12,
     "metadata": {},
     "output_type": "execute_result"
    }
   ],
   "source": [
    "df.loc[[0, 1, 2], \"EdLevel\"]"
   ]
  },
  {
   "cell_type": "code",
   "execution_count": 14,
   "id": "6cab8f20",
   "metadata": {},
   "outputs": [
    {
     "data": {
      "text/html": [
       "<div>\n",
       "<style scoped>\n",
       "    .dataframe tbody tr th:only-of-type {\n",
       "        vertical-align: middle;\n",
       "    }\n",
       "\n",
       "    .dataframe tbody tr th {\n",
       "        vertical-align: top;\n",
       "    }\n",
       "\n",
       "    .dataframe thead th {\n",
       "        text-align: right;\n",
       "    }\n",
       "</style>\n",
       "<table border=\"1\" class=\"dataframe\">\n",
       "  <thead>\n",
       "    <tr style=\"text-align: right;\">\n",
       "      <th></th>\n",
       "      <th>EdLevel</th>\n",
       "      <th>Employment</th>\n",
       "      <th>EmploymentAddl</th>\n",
       "      <th>WorkExp</th>\n",
       "    </tr>\n",
       "  </thead>\n",
       "  <tbody>\n",
       "    <tr>\n",
       "      <th>0</th>\n",
       "      <td>Master’s degree (M.A., M.S., M.Eng., MBA, etc.)</td>\n",
       "      <td>Employed</td>\n",
       "      <td>Caring for dependents (children, elderly, etc.)</td>\n",
       "      <td>8.0</td>\n",
       "    </tr>\n",
       "    <tr>\n",
       "      <th>1</th>\n",
       "      <td>Associate degree (A.A., A.S., etc.)</td>\n",
       "      <td>Employed</td>\n",
       "      <td>NaN</td>\n",
       "      <td>2.0</td>\n",
       "    </tr>\n",
       "    <tr>\n",
       "      <th>2</th>\n",
       "      <td>Bachelor’s degree (B.A., B.S., B.Eng., etc.)</td>\n",
       "      <td>Independent contractor, freelancer, or self-em...</td>\n",
       "      <td>None of the above</td>\n",
       "      <td>10.0</td>\n",
       "    </tr>\n",
       "  </tbody>\n",
       "</table>\n",
       "</div>"
      ],
      "text/plain": [
       "                                           EdLevel  \\\n",
       "0  Master’s degree (M.A., M.S., M.Eng., MBA, etc.)   \n",
       "1              Associate degree (A.A., A.S., etc.)   \n",
       "2     Bachelor’s degree (B.A., B.S., B.Eng., etc.)   \n",
       "\n",
       "                                          Employment  \\\n",
       "0                                           Employed   \n",
       "1                                           Employed   \n",
       "2  Independent contractor, freelancer, or self-em...   \n",
       "\n",
       "                                    EmploymentAddl  WorkExp  \n",
       "0  Caring for dependents (children, elderly, etc.)      8.0  \n",
       "1                                              NaN      2.0  \n",
       "2                                None of the above     10.0  "
      ]
     },
     "execution_count": 14,
     "metadata": {},
     "output_type": "execute_result"
    }
   ],
   "source": [
    "df.loc[0:2, \"EdLevel\": \"WorkExp\"]"
   ]
  }
 ],
 "metadata": {
  "kernelspec": {
   "display_name": "Python 3",
   "language": "python",
   "name": "python3"
  },
  "language_info": {
   "codemirror_mode": {
    "name": "ipython",
    "version": 3
   },
   "file_extension": ".py",
   "mimetype": "text/x-python",
   "name": "python",
   "nbconvert_exporter": "python",
   "pygments_lexer": "ipython3",
   "version": "3.13.7"
  }
 },
 "nbformat": 4,
 "nbformat_minor": 5
}
